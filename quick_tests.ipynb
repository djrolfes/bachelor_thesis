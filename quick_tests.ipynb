{
 "cells": [
  {
   "cell_type": "code",
   "execution_count": 5,
   "metadata": {},
   "outputs": [],
   "source": [
    "import numpy as np\n",
    "from itertools import permutations\n",
    "from itertools import combinations_with_replacement\n",
    "from itertools import product\n",
    "\n",
    "DIM = 4"
   ]
  },
  {
   "cell_type": "code",
   "execution_count": null,
   "metadata": {},
   "outputs": [],
   "source": []
  },
  {
   "cell_type": "code",
   "execution_count": 2,
   "metadata": {},
   "outputs": [],
   "source": [
    "def Genz_points(m, dimensions=3):\n",
    "    '''\n",
    "    A function to create an array with Genz points with given m and a number of dimensions\n",
    "    '''\n",
    "    available_numbers = np.arange(1,m+2-dimensions)\n",
    "    perm = np.array(list(product(available_numbers,repeat=dimensions)))\n",
    "    sums = np.sum(perm,axis=1)\n",
    "    indeces = [1*x==m for x in sums]#list of which permutations have sum(j_i)=m\n",
    "    points = np.sqrt(perm[indeces]/m)\n",
    "    points = np.array([points*comb for comb in (list(product([-1,1],repeat=dimensions)))])\n",
    "    result = np.reshape(points, (points.shape[0]*points.shape[1],dimensions))\n",
    "    #result = np.sqrt(points/m)\n",
    "    return result\n",
    "\n",
    "\n",
    "genz = Genz_points(45, dimensions=DIM)"
   ]
  },
  {
   "cell_type": "code",
   "execution_count": 3,
   "metadata": {},
   "outputs": [],
   "source": [
    "def Linear_disc_points(m, dimensions=3):\n",
    "    '''\n",
    "    A function to create an array with points created via linear discretisation\n",
    "    '''\n",
    "    available_numbers = np.arange(1,m+2-dimensions)\n",
    "    perm = np.array(list(product(available_numbers,repeat=dimensions)))\n",
    "    sums = np.sum(perm,axis=1)\n",
    "    indeces = [1*x==m for x in sums]#list of which permutations have sum(j_i)=m\n",
    "    points = perm[indeces]\n",
    "    points = np.array([points*comb for comb in (list(product([-1,1],repeat=dimensions)))])\n",
    "    points = np.reshape(points, (points.shape[0]*points.shape[1], dimensions))\n",
    "\n",
    "    result = np.asarray([point/np.linalg.norm(point) for point in points])\n",
    "\n",
    "    return result\n",
    "\n",
    "line = Linear_disc_points(75, dimensions=DIM)"
   ]
  },
  {
   "cell_type": "code",
   "execution_count": 8,
   "metadata": {},
   "outputs": [],
   "source": [
    "def Volleyball_points(m, dimensions=3):\n",
    "    '''\n",
    "    A function to create an array with points distributed via the volleyball method\n",
    "    '''\n",
    "    available_numbers = np.arange(0, m+1)\n",
    "    perm = np.array(list(permutations(available_numbers,dimensions)))\n",
    "    indeces = [np.any(x) for x in np.greater_equal(perm, m)]\n",
    "    points = perm[indeces]\n",
    "    points = np.array([points*comb for comb in (list(product([-1,1],repeat=dimensions)))])\n",
    "    points = np.reshape(points, (points.shape[0]*points.shape[1], dimensions))\n",
    "    result = np.asarray([point/np.linalg.norm(point) for point in points])\n",
    "    return result\n",
    "\n",
    "voll4 = Volleyball_points(30, dimensions=DIM)"
   ]
  },
  {
   "cell_type": "code",
   "execution_count": 23,
   "metadata": {},
   "outputs": [],
   "source": [
    "class PrimesIter:\n",
    "    '''\n",
    "    An Iterator to get the first m primes.\n",
    "    '''\n",
    "    def __init__(self, m):\n",
    "        self.max = m\n",
    "\n",
    "    def __iter__(self):\n",
    "        self.n = 1\n",
    "        self.number = 0\n",
    "        return self\n",
    "\n",
    "    def __next__(self):\n",
    "        if self.number < self.max:\n",
    "            self.n += 1\n",
    "            i=2\n",
    "            while i < int(np.sqrt(self.n)) + 1:\n",
    "                if self.n % i == 0:\n",
    "                    self.n += 1\n",
    "                    i = 2\n",
    "                i += 1\n",
    "            else:\n",
    "                self.number += 1\n",
    "                return self.n\n",
    "        else:\n",
    "            raise StopIteration\n",
    "\n"
   ]
  },
  {
   "cell_type": "code",
   "execution_count": 10,
   "metadata": {},
   "outputs": [],
   "source": [
    "import sympy as smp\n",
    "import numpy as np\n",
    "\n",
    "xi, yi, zi, xj, yj, zj = smp.symbols(\"x_i y_i z_i x_j y_j z_j\", real=True)\n",
    "d1 = smp.cos(xi) - smp.cos(xj)\n",
    "d2 = smp.sin(xi)*smp.cos(yi) - smp.sin(xj)*smp.cos(yj)\n",
    "d3 = smp.sin(xi)*smp.sin(yi)*smp.cos(zi) - smp.sin(xj)*smp.sin(yj)*smp.cos(zj)\n",
    "d4 = smp.sin(xi)*smp.sin(yi)*smp.sin(zi) - smp.sin(xj)*smp.sin(yj)*smp.sin(zj)\n",
    "d = d1**2 + d2**2 + d3**2 + d4**2"
   ]
  },
  {
   "cell_type": "code",
   "execution_count": 12,
   "metadata": {},
   "outputs": [
    {
     "data": {
      "text/latex": [
       "$\\displaystyle - 2 \\sin{\\left(x_{i} \\right)} \\sin{\\left(x_{j} \\right)} \\sin{\\left(y_{i} \\right)} \\sin{\\left(y_{j} \\right)} \\cos{\\left(z_{i} - z_{j} \\right)} - 2 \\sin{\\left(x_{i} \\right)} \\sin{\\left(x_{j} \\right)} \\cos{\\left(y_{i} \\right)} \\cos{\\left(y_{j} \\right)} - 2 \\cos{\\left(x_{i} \\right)} \\cos{\\left(x_{j} \\right)} + 2$"
      ],
      "text/plain": [
       "-2*sin(x_i)*sin(x_j)*sin(y_i)*sin(y_j)*cos(z_i - z_j) - 2*sin(x_i)*sin(x_j)*cos(y_i)*cos(y_j) - 2*cos(x_i)*cos(x_j) + 2"
      ]
     },
     "execution_count": 12,
     "metadata": {},
     "output_type": "execute_result"
    }
   ],
   "source": [
    "d = d.simplify()\n",
    "d"
   ]
  },
  {
   "cell_type": "code",
   "execution_count": 22,
   "metadata": {},
   "outputs": [
    {
     "data": {
      "text/latex": [
       "$\\displaystyle - 2 \\sin{\\left(x_{i} \\right)} \\sin{\\left(x_{j} \\right)} \\sin{\\left(y_{i} \\right)} \\sin{\\left(y_{j} \\right)} \\sin{\\left(z_{i} - z_{j} \\right)}$"
      ],
      "text/plain": [
       "-2*sin(x_i)*sin(x_j)*sin(y_i)*sin(y_j)*sin(z_i - z_j)"
      ]
     },
     "execution_count": 22,
     "metadata": {},
     "output_type": "execute_result"
    }
   ],
   "source": [
    "d.diff(zj).simplify()"
   ]
  },
  {
   "cell_type": "code",
   "execution_count": 1,
   "metadata": {},
   "outputs": [
    {
     "name": "stdout",
     "output_type": "stream",
     "text": [
      "(1.1036614890912786, array([[-0.04181398,  0.        ,  0.        ],\n",
      "       [ 0.25820383,  0.1427092 ,  0.04113036],\n",
      "       [ 0.09205611,  0.13181555,  0.07064691],\n",
      "       [ 0.24106677,  0.        ,  0.        ],\n",
      "       [-0.24241726, -0.30920739, -0.2392742 ],\n",
      "       [ 0.17506517, -0.12531009, -0.04113036],\n",
      "       [ 0.14795132, -0.14545991, -0.07064691],\n",
      "       [ 0.13812078,  0.02805958,  0.2392742 ]]))\n"
     ]
    }
   ],
   "source": [
    "from fibonacci import generate_vertices, generate_vertices_angles\n",
    "from lattice_actions import calc_mean_distance_angles\n",
    "\n",
    "angles = generate_vertices_angles(2**3)\n",
    "print(calc_mean_distance_angles(angles, neighbors=1))"
   ]
  },
  {
   "cell_type": "code",
   "execution_count": 21,
   "metadata": {},
   "outputs": [
    {
     "name": "stdout",
     "output_type": "stream",
     "text": [
      "0.1391493386308298\n",
      "0.13930694806478858\n",
      "0.13946466043607975\n",
      "0.13962093320728983\n",
      "0.1397756304257497\n",
      "0.13992959732851254\n",
      "0.1400792162359465\n",
      "0.14023045400409614\n",
      "0.14037721911920364\n",
      "0.14052524336327418\n",
      "0.14067040188275523\n",
      "0.14081331312101156\n",
      "0.14095548259568955\n",
      "0.14109531136279035\n",
      "0.14123581034178548\n",
      "0.1413747835220858\n",
      "0.1415133394927999\n",
      "0.14165491564082586\n",
      "0.14179288417833927\n",
      "0.14193251596522502\n",
      "0.14207305892157238\n",
      "0.14221091294373653\n"
     ]
    }
   ],
   "source": [
    "angles = generate_vertices_angles(2**8)\n",
    "#print(angles)\n",
    "for i in range(22):\n",
    "    mean, nablas = calc_mean_distance_angles(angles,neighbors=3)\n",
    "    #print(nablas)\n",
    "    angles += 0.1*nablas\n",
    "    #print(angles)\n",
    "    print(mean)"
   ]
  }
 ],
 "metadata": {
  "kernelspec": {
   "display_name": "Python 3.8.8 ('base')",
   "language": "python",
   "name": "python3"
  },
  "language_info": {
   "codemirror_mode": {
    "name": "ipython",
    "version": 3
   },
   "file_extension": ".py",
   "mimetype": "text/x-python",
   "name": "python",
   "nbconvert_exporter": "python",
   "pygments_lexer": "ipython3",
   "version": "3.8.8"
  },
  "orig_nbformat": 4,
  "vscode": {
   "interpreter": {
    "hash": "4f986ec37800e4c489908ed56dc341f28b74512e37fd3acd9059e4dca26ef872"
   }
  }
 },
 "nbformat": 4,
 "nbformat_minor": 2
}
